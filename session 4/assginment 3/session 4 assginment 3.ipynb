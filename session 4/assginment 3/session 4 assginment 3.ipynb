{
 "cells": [
  {
   "cell_type": "markdown",
   "id": "f3b1cc5b",
   "metadata": {},
   "source": [
    "## 1. Implement Fibonacci series using recursion"
   ]
  },
  {
   "cell_type": "code",
   "execution_count": 1,
   "id": "d0cc23b1",
   "metadata": {},
   "outputs": [
    {
     "name": "stdout",
     "output_type": "stream",
     "text": [
      "Enter number of terms:7\n",
      "Fibonacci sequence:\n",
      "0\n",
      "1\n",
      "1\n",
      "2\n",
      "3\n",
      "5\n",
      "8\n"
     ]
    }
   ],
   "source": [
    "def fibonacci(n):\n",
    "    if(n <= 1):\n",
    "        return n\n",
    "    else:\n",
    "        return(fibonacci(n-1) + fibonacci(n-2))\n",
    "n = int(input(\"Enter number of terms:\"))\n",
    "print(\"Fibonacci sequence:\")\n",
    "for i in range(n):\n",
    "    print(fibonacci(i))\n"
   ]
  },
  {
   "cell_type": "markdown",
   "id": "781e79ad",
   "metadata": {},
   "source": [
    "### 3. Write a Python program that finds all pairs of elements in a list whose sum is equal to a given value."
   ]
  },
  {
   "cell_type": "code",
   "execution_count": 3,
   "id": "60244ac7",
   "metadata": {},
   "outputs": [
    {
     "name": "stdout",
     "output_type": "stream",
     "text": [
      "enter ur number to get sum of pairs : 2\n",
      "[0, 5, 2, 4, 8, 3, 7]\n",
      "[[0, 2], [2, 0]]\n"
     ]
    }
   ],
   "source": [
    "l1=[0,5,2,4,8,3,7]\n",
    "l2= []\n",
    "no = int(input(\"enter ur number to get sum of pairs : \"))\n",
    "\n",
    "for i in range(len(l1)):\n",
    "    for j in range(len(l1)):\n",
    "        test = no - l1[i]\n",
    "        if test == l1[j]:\n",
    "            l2.append([l1[i], l1[j]])\n",
    "        else:\n",
    "            continue\n",
    "print(l1)\n",
    "print(l2)\n",
    "\n",
    "\n",
    "       "
   ]
  },
  {
   "cell_type": "markdown",
   "id": "653b9be3",
   "metadata": {},
   "source": [
    "### 5. Write a Python function that takes a number as a parameter and checks whether the number is prime or not."
   ]
  },
  {
   "cell_type": "code",
   "execution_count": 4,
   "id": "b70d159e",
   "metadata": {},
   "outputs": [
    {
     "name": "stdout",
     "output_type": "stream",
     "text": [
      "Enter a number: 3\n",
      "3 is a prime number\n"
     ]
    }
   ],
   "source": [
    "num = int(input(\"Enter a number: \"))\n",
    "\n",
    "flag = False\n",
    "\n",
    "if num == 1:\n",
    "    print(num, \"is not a prime number\")\n",
    "elif num > 1:\n",
    "    for i in range(2, num):\n",
    "        if (num % i) == 0:\n",
    "            flag = True\n",
    "            break\n",
    "\n",
    "    if flag:\n",
    "        print(num, \"is not a prime number\")\n",
    "    else:\n",
    "        print(num, \"is a prime number\")\n",
    "        "
   ]
  },
  {
   "cell_type": "markdown",
   "id": "2eca3af3",
   "metadata": {},
   "source": [
    "## 6. Write a Python function to print the even numbers from a given list."
   ]
  },
  {
   "cell_type": "code",
   "execution_count": 5,
   "id": "dccc652b",
   "metadata": {},
   "outputs": [
    {
     "name": "stdout",
     "output_type": "stream",
     "text": [
      "how many numbers will u enter? 3\n",
      "enter number :  2\n",
      "enter number :  3\n",
      "enter number :  6\n",
      "ur entered items are [2, 3, 6]\n",
      "even numbers are [2, 6].\n"
     ]
    }
   ],
   "source": [
    "l=[]\n",
    "l2= []\n",
    "\n",
    "def even_no_list(l):\n",
    "    for i in range(len(l)):\n",
    "        if l[i] % 2 == 0:\n",
    "            L2 = l2.append(l[i])\n",
    "    return l2\n",
    "            \n",
    "no_items = int(input(\"how many numbers will u enter? \"))\n",
    "lItems = []\n",
    "for i in range(no_items):\n",
    "    items = int(input(\"enter number :  \"))\n",
    "    lItems.append(items)\n",
    "\n",
    "print(f\"ur entered items are {lItems}\")\n",
    "l2 = even_no_list(lItems)\n",
    "print(f\"even numbers are {l2}.\")\n",
    "\n"
   ]
  },
  {
   "cell_type": "markdown",
   "id": "134ade27",
   "metadata": {},
   "source": [
    "## 7. Write a function that will take a given string and reverse the order of words."
   ]
  },
  {
   "cell_type": "code",
   "execution_count": 6,
   "id": "f9001fa1",
   "metadata": {},
   "outputs": [
    {
     "name": "stdout",
     "output_type": "stream",
     "text": [
      "enter you text to get reversed HELLO AHMED\n",
      "['HELLO', 'AHMED']\n",
      "['AHMED', 'HELLO']\n"
     ]
    }
   ],
   "source": [
    "a = input(\"enter you text to get reversed \")\n",
    "b = a.split(\" \")\n",
    "print(b)\n",
    "\n",
    "b.reverse()\n",
    "print(b)\n"
   ]
  },
  {
   "cell_type": "markdown",
   "id": "29a31f12",
   "metadata": {},
   "source": [
    "## 8. Given an integer x, return true if x is a palindrome, and false otherwise."
   ]
  },
  {
   "cell_type": "code",
   "execution_count": 8,
   "id": "21dea586",
   "metadata": {},
   "outputs": [
    {
     "name": "stdout",
     "output_type": "stream",
     "text": [
      "Enter number:123\n",
      "The number isn't a palindrome!\n"
     ]
    }
   ],
   "source": [
    " \n",
    "n=int(input(\"Enter number:\"))\n",
    "\n",
    "temp=n\n",
    "rev=0\n",
    "while(n>0):\n",
    "    dig=n%10\n",
    "    rev=rev*10+dig\n",
    "    n=n//10\n",
    "if(temp==rev):\n",
    "    print(\"true\")\n",
    "else:\n",
    "    print(\"The number isn't a palindrome!\")"
   ]
  },
  {
   "cell_type": "markdown",
   "id": "649c2936",
   "metadata": {},
   "source": [
    "## 9. Write a Python function that checks whether a passed string is a palindrome or not."
   ]
  },
  {
   "cell_type": "code",
   "execution_count": 11,
   "id": "f1cdf5fc",
   "metadata": {},
   "outputs": [
    {
     "name": "stdout",
     "output_type": "stream",
     "text": [
      "enter you text to get check: civic\n",
      " your text is palindrome\n"
     ]
    }
   ],
   "source": [
    "a = input(\"enter you text to get check: \")\n",
    "\n",
    "b = list(a)\n",
    "b.reverse()\n",
    "b= ''.join(b)\n",
    "if a == b:\n",
    "    print(\" your text is palindrome\")\n",
    "else:\n",
    "    print(\"your text isn't a palindrome!\")\n",
    "    "
   ]
  },
  {
   "cell_type": "markdown",
   "id": "9f4570dd",
   "metadata": {},
   "source": [
    "#### 10.Write a Python function to create and print a list where the values are the squares of numbers between 1 and 30 (both included)."
   ]
  },
  {
   "cell_type": "code",
   "execution_count": 12,
   "id": "8ff2bbfe",
   "metadata": {},
   "outputs": [
    {
     "name": "stdout",
     "output_type": "stream",
     "text": [
      "[1, 4, 9, 16, 25, 36, 49, 64, 81, 100, 121, 144, 169, 196, 225, 256, 289, 324, 361, 400, 441, 484, 529, 576, 625, 676, 729, 784, 841, 900]\n"
     ]
    }
   ],
   "source": [
    "square_list = []\n",
    "for i in range(1,31,1):\n",
    "    result = i**2\n",
    "    square_list.append(result)\n",
    "    \n",
    "print(square_list)"
   ]
  },
  {
   "cell_type": "code",
   "execution_count": null,
   "id": "78eae701",
   "metadata": {},
   "outputs": [],
   "source": []
  }
 ],
 "metadata": {
  "kernelspec": {
   "display_name": "Python 3 (ipykernel)",
   "language": "python",
   "name": "python3"
  },
  "language_info": {
   "codemirror_mode": {
    "name": "ipython",
    "version": 3
   },
   "file_extension": ".py",
   "mimetype": "text/x-python",
   "name": "python",
   "nbconvert_exporter": "python",
   "pygments_lexer": "ipython3",
   "version": "3.10.9"
  }
 },
 "nbformat": 4,
 "nbformat_minor": 5
}
