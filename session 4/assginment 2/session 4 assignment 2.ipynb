{
 "cells": [
  {
   "cell_type": "markdown",
   "id": "82c24cb2",
   "metadata": {},
   "source": [
    "## 1. Write a Python program to add an item to a tuple."
   ]
  },
  {
   "cell_type": "code",
   "execution_count": 1,
   "id": "28b32673",
   "metadata": {},
   "outputs": [
    {
     "name": "stdout",
     "output_type": "stream",
     "text": [
      "enter ur item cherry\n",
      "('apple', 'bannan', 'cherry')\n"
     ]
    }
   ],
   "source": [
    "def add_to_tuple(old,new_item):\n",
    "    new_tuple = list(old)\n",
    "    new_tuple.append(new_item)\n",
    "    new_tuple = tuple(new_tuple)\n",
    "    return new_tuple\n",
    "\n",
    "t = (\"apple\",\"bannan\")\n",
    "item = input(\"enter ur item \")\n",
    "print(add_to_tuple(t, item))\n"
   ]
  },
  {
   "cell_type": "markdown",
   "id": "82383de0",
   "metadata": {},
   "source": [
    "## 2. Write a Python program to sum all the items in a list.\n",
    "\n"
   ]
  },
  {
   "cell_type": "code",
   "execution_count": 3,
   "id": "e3fce2ad",
   "metadata": {},
   "outputs": [
    {
     "name": "stdout",
     "output_type": "stream",
     "text": [
      "8\n",
      "8\n"
     ]
    }
   ],
   "source": [
    "def sum_list_items(l):\n",
    "    result=0\n",
    "    for x in l:\n",
    "        result += x\n",
    "    return result\n",
    "l = [2,2,2,2]\n",
    "print(sum_list_items(l))\n",
    "#or\n",
    "Sum = sum(l)\n",
    "print(Sum)"
   ]
  },
  {
   "cell_type": "markdown",
   "id": "044202fd",
   "metadata": {},
   "source": [
    "## 3. Write a Python program to multiply all the items in a list."
   ]
  },
  {
   "cell_type": "code",
   "execution_count": 5,
   "id": "4449f749",
   "metadata": {},
   "outputs": [
    {
     "name": "stdout",
     "output_type": "stream",
     "text": [
      "24\n"
     ]
    }
   ],
   "source": [
    "def mult_list_items(l):\n",
    "    result =1\n",
    "    for x in l:\n",
    "        result *= x   \n",
    "    return result\n",
    "l = [2,3,4]\n",
    "print(mult_list_items(l))"
   ]
  },
  {
   "cell_type": "markdown",
   "id": "92733be2",
   "metadata": {},
   "source": [
    "## 4. Write a Python program to get the smallest number from a list."
   ]
  },
  {
   "cell_type": "code",
   "execution_count": 7,
   "id": "28c99880",
   "metadata": {},
   "outputs": [
    {
     "name": "stdout",
     "output_type": "stream",
     "text": [
      "2\n"
     ]
    }
   ],
   "source": [
    "l=[5, 2 , 4 ]\n",
    "l.sort()\n",
    "print(l[0])"
   ]
  },
  {
   "cell_type": "markdown",
   "id": "5724fcff",
   "metadata": {},
   "source": [
    "## 5. Write a Python program to get the largest number from a list"
   ]
  },
  {
   "cell_type": "code",
   "execution_count": 8,
   "id": "0c1ea52b",
   "metadata": {},
   "outputs": [
    {
     "name": "stdout",
     "output_type": "stream",
     "text": [
      "5\n"
     ]
    }
   ],
   "source": [
    "l=[5, 2 , 4 ]\n",
    "l.sort()\n",
    "print(l[-1])"
   ]
  },
  {
   "cell_type": "markdown",
   "id": "ccdc50a2",
   "metadata": {},
   "source": [
    "## 6. Write a Python program to count the number of strings from a given list of strings.\n"
   ]
  },
  {
   "cell_type": "code",
   "execution_count": 9,
   "id": "92bb9497",
   "metadata": {},
   "outputs": [
    {
     "name": "stdout",
     "output_type": "stream",
     "text": [
      "1 word has 5 letters \n",
      "2 word has 6 letters \n"
     ]
    }
   ],
   "source": [
    "l = [\"apple\",\"bannan\"]\n",
    "words=1\n",
    "letter = 0\n",
    "for i in l :\n",
    "    for j in i:\n",
    "        letter+=1\n",
    "    print(f\"{words} word has {letter} letters \")\n",
    "    letter = 0\n",
    "    words+=1"
   ]
  },
  {
   "cell_type": "markdown",
   "id": "9cc70cd3",
   "metadata": {},
   "source": [
    "\n",
    "## 7. Write a Python program to clone or copy a list"
   ]
  },
  {
   "cell_type": "code",
   "execution_count": 15,
   "id": "497aa10a",
   "metadata": {},
   "outputs": [
    {
     "name": "stdout",
     "output_type": "stream",
     "text": [
      "['apple', 'bannan'] ['apple', 'bannan']\n",
      "['apple', 'bannan']\n"
     ]
    }
   ],
   "source": [
    "l1 = [\"apple\",\"bannan\"]\n",
    "\n",
    "\n",
    "l2=[]\n",
    "for x in l1:\n",
    "    l2.append(x)\n",
    "   \n",
    "print(l1,l2)\n",
    "#or \n",
    "l2 = l1.copy()\n",
    "print(l2)"
   ]
  },
  {
   "cell_type": "markdown",
   "id": "e05ffc6d",
   "metadata": {},
   "source": [
    "## 8. Write a Python program to remove item(s) from a given set.\n"
   ]
  },
  {
   "cell_type": "code",
   "execution_count": 16,
   "id": "a0df3ee9",
   "metadata": {},
   "outputs": [
    {
     "name": "stdout",
     "output_type": "stream",
     "text": [
      "enter item to delete from (apple,bannan,cherry) apple\n",
      "{'cherry', 'bannan'}\n"
     ]
    }
   ],
   "source": [
    "item = input(\"enter item to delete from (apple,bannan,cherry) \")\n",
    "s1={\"apple\",\"bannan\",\"cherry\"}        \n",
    "s1.remove(item)\n",
    "print(s1)  "
   ]
  },
  {
   "cell_type": "markdown",
   "id": "f2e739ae",
   "metadata": {},
   "source": [
    "## 9. Write a Python program to check if a set is a subset of another set."
   ]
  },
  {
   "cell_type": "code",
   "execution_count": 17,
   "id": "ca9ce846",
   "metadata": {},
   "outputs": [
    {
     "name": "stdout",
     "output_type": "stream",
     "text": [
      "True\n"
     ]
    }
   ],
   "source": [
    "s1={\"apple\",\"bannan\",\"cherry\"} \n",
    "s2={\"apple\",\"bannan\"} \n",
    "print(s2.issubset(s1))"
   ]
  },
  {
   "cell_type": "markdown",
   "id": "e59261dc",
   "metadata": {},
   "source": [
    "## 10. Write a Python program to remove all elements from a given set.\n"
   ]
  },
  {
   "cell_type": "code",
   "execution_count": 18,
   "id": "7a51cf26",
   "metadata": {},
   "outputs": [
    {
     "name": "stdout",
     "output_type": "stream",
     "text": [
      "set()\n"
     ]
    }
   ],
   "source": [
    "s1 = {2, 3, 5, 7}\n",
    "s1.clear()\n",
    "print(s1)"
   ]
  },
  {
   "cell_type": "markdown",
   "id": "876952ed",
   "metadata": {},
   "source": [
    "## 11. Write a Python program to find the maximum and minimum values in a set."
   ]
  },
  {
   "cell_type": "code",
   "execution_count": 19,
   "id": "bce45271",
   "metadata": {},
   "outputs": [
    {
     "name": "stdout",
     "output_type": "stream",
     "text": [
      "the smallest number is : 2 and the smallest number is : 9\n"
     ]
    }
   ],
   "source": [
    "s1 = {4, 2, 5, 9}\n",
    "s1= list(s1)\n",
    "s1.sort()\n",
    "print(f\"the smallest number is : {s1[0]} and the smallest number is : {s1[-1]}\")\n",
    "s1 = set(s1)"
   ]
  },
  {
   "cell_type": "code",
   "execution_count": null,
   "id": "56935e6a",
   "metadata": {},
   "outputs": [],
   "source": []
  }
 ],
 "metadata": {
  "kernelspec": {
   "display_name": "Python 3 (ipykernel)",
   "language": "python",
   "name": "python3"
  },
  "language_info": {
   "codemirror_mode": {
    "name": "ipython",
    "version": 3
   },
   "file_extension": ".py",
   "mimetype": "text/x-python",
   "name": "python",
   "nbconvert_exporter": "python",
   "pygments_lexer": "ipython3",
   "version": "3.10.9"
  }
 },
 "nbformat": 4,
 "nbformat_minor": 5
}
