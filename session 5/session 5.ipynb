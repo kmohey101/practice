{
 "cells": [
  {
   "cell_type": "code",
   "execution_count": 110,
   "id": "ff3bbe39",
   "metadata": {},
   "outputs": [],
   "source": [
    "import numpy as np\n",
    "from os import *"
   ]
  },
  {
   "cell_type": "markdown",
   "id": "77c1e418",
   "metadata": {},
   "source": [
    "\n",
    "## 1 Write a NumPy program to test whether none of the elements of a given array is zero"
   ]
  },
  {
   "cell_type": "code",
   "execution_count": 2,
   "id": "adfd31b7",
   "metadata": {},
   "outputs": [
    {
     "name": "stdout",
     "output_type": "stream",
     "text": [
      "first array is[ 34  56  89  23  69 980 567]\n",
      "second array is[ 1  2  3  4  6  7  8  9 10  0 89 67]\n",
      "True\n",
      "False\n"
     ]
    }
   ],
   "source": [
    "arr1 = np.array([34, 56, 89,23, 69, 980,567])\n",
    "arr2 = np.array([1, 2, 3, 4, 6, 7, 8, 9, 10,0, 89, 67])\n",
    "print(f'first array is{arr1}')\n",
    "print(f'second array is{arr2}')\n",
    "print(np.all(arr1))\n",
    "print(np.all(arr2))\n"
   ]
  },
  {
   "cell_type": "markdown",
   "id": "1e40d7e1",
   "metadata": {},
   "source": [
    "## 2 Write a NumPy program to test whether any of the elements of a given array is non-zero"
   ]
  },
  {
   "cell_type": "code",
   "execution_count": 30,
   "id": "c936aed6",
   "metadata": {},
   "outputs": [
    {
     "name": "stdout",
     "output_type": "stream",
     "text": [
      "True\n",
      "False\n"
     ]
    }
   ],
   "source": [
    "arr1 = np.zeros((1,2))\n",
    "arr2 = np.ones((1,2))\n",
    "print((~np.all(arr1)))\n",
    "print((~np.all(arr2)))\n"
   ]
  },
  {
   "cell_type": "markdown",
   "id": "3e903a59",
   "metadata": {},
   "source": [
    "#### 3 Write a NumPy program to create an element-wise comparison (equal, equal within a tolerance) of two given"
   ]
  },
  {
   "cell_type": "code",
   "execution_count": 31,
   "id": "5cc87c8f",
   "metadata": {},
   "outputs": [
    {
     "name": "stdout",
     "output_type": "stream",
     "text": [
      "[ True False  True False]\n"
     ]
    }
   ],
   "source": [
    "arr1 = [1,3,5,9]\n",
    "arr2 = [1,2,5,8]\n",
    "print(np.equal(arr1,arr2))"
   ]
  },
  {
   "cell_type": "markdown",
   "id": "633e2175",
   "metadata": {},
   "source": [
    "## 4 Write a NumPy program to create an array of 10 zeros,10 ones, 10 fives."
   ]
  },
  {
   "cell_type": "code",
   "execution_count": 45,
   "id": "9d2520e9",
   "metadata": {},
   "outputs": [
    {
     "name": "stdout",
     "output_type": "stream",
     "text": [
      "horizntal -->\n",
      " [[0 0 0 0 0 0 0 0 0 0 1 1 1 1 1 1 1 1 1 1 5 5 5 5 5 5 5 5 5 5]]\n",
      "vertical -->\n",
      " [[0 0 0 0 0 0 0 0 0 0]\n",
      " [1 1 1 1 1 1 1 1 1 1]\n",
      " [5 5 5 5 5 5 5 5 5 5]]\n"
     ]
    }
   ],
   "source": [
    "arr0 = np.zeros((1,10), dtype=\"uint8\")\n",
    "arr1 = np.ones((1,10), dtype=\"uint8\")\n",
    "arr5 = np.full((1,10), 5)\n",
    "final_horizntal_arr = np.hstack((arr0,arr1,arr5))\n",
    "print('horizntal -->\\n',final_horizntal_arr)\n",
    "final_vertical_arr = np.vstack((arr0,arr1,arr5))\n",
    "print('vertical -->\\n',final_vertical_arr)\n"
   ]
  },
  {
   "cell_type": "markdown",
   "id": "da5b7f99",
   "metadata": {},
   "source": [
    "## 5. Write a NumPy program to create an array of the integers from 30 to70"
   ]
  },
  {
   "cell_type": "code",
   "execution_count": 46,
   "id": "589d866d",
   "metadata": {},
   "outputs": [
    {
     "data": {
      "text/plain": [
       "array([30, 31, 32, 33, 34, 35, 36, 37, 38, 39, 40, 41, 42, 43, 44, 45, 46,\n",
       "       47, 48, 49, 50, 51, 52, 53, 54, 55, 56, 57, 58, 59, 60, 61, 62, 63,\n",
       "       64, 65, 66, 67, 68, 69, 70])"
      ]
     },
     "execution_count": 46,
     "metadata": {},
     "output_type": "execute_result"
    }
   ],
   "source": [
    "arr1 = np.arange(30,71,1)\n",
    "arr1"
   ]
  },
  {
   "cell_type": "markdown",
   "id": "e0cf5ca4",
   "metadata": {},
   "source": [
    "## 6. Write a NumPy program to create a 3x3 identity matrix "
   ]
  },
  {
   "cell_type": "code",
   "execution_count": 49,
   "id": "4e0a47d6",
   "metadata": {},
   "outputs": [
    {
     "data": {
      "text/plain": [
       "array([[1., 0., 0.],\n",
       "       [0., 1., 0.],\n",
       "       [0., 0., 1.]])"
      ]
     },
     "execution_count": 49,
     "metadata": {},
     "output_type": "execute_result"
    }
   ],
   "source": [
    "arr1 = np.identity(3)\n",
    "arr1"
   ]
  },
  {
   "cell_type": "markdown",
   "id": "e3ebb049",
   "metadata": {},
   "source": [
    "## 7. Write a NumPy program to generate a random number between 0 and 1 "
   ]
  },
  {
   "cell_type": "code",
   "execution_count": 51,
   "id": "1e3cbefa",
   "metadata": {},
   "outputs": [
    {
     "data": {
      "text/plain": [
       "0.1485385479811877"
      ]
     },
     "execution_count": 51,
     "metadata": {},
     "output_type": "execute_result"
    }
   ],
   "source": [
    "arr1 = np.random.rand()\n",
    "arr1\n"
   ]
  },
  {
   "cell_type": "markdown",
   "id": "b4bf28eb",
   "metadata": {},
   "source": [
    "### 8. Write a NumPy program to generate an array of 15 random numbers from a standard normal distribution "
   ]
  },
  {
   "cell_type": "code",
   "execution_count": 53,
   "id": "81ea50f6",
   "metadata": {},
   "outputs": [
    {
     "data": {
      "text/plain": [
       "array([[0.94300219, 0.24608103, 0.12471974, 0.3178206 , 0.96301713,\n",
       "        0.05728531, 0.25273322, 0.47309738, 0.10239161, 0.99348684,\n",
       "        0.94207084, 0.31018214, 0.97989986, 0.91319648, 0.1366871 ]])"
      ]
     },
     "execution_count": 53,
     "metadata": {},
     "output_type": "execute_result"
    }
   ],
   "source": [
    "arr1 = np.random.rand(1,15)\n",
    "arr1"
   ]
  },
  {
   "cell_type": "markdown",
   "id": "89bf545e",
   "metadata": {},
   "source": [
    "#### 9. Write a NumPy program to create a vector with values ranging from 15 to 55 and print all values except the first and last.\n"
   ]
  },
  {
   "cell_type": "code",
   "execution_count": 67,
   "id": "3fe3a9fb",
   "metadata": {},
   "outputs": [
    {
     "name": "stdout",
     "output_type": "stream",
     "text": [
      "before removing first and last number \n",
      " [[35 26 15 35 37 21 17 37 44 54 23 20 22 43 41 39 32 20 39 16 45 43 25 25\n",
      "  15 44 40 37 16 28 42 41 18 27 34 36 18 49 25 34]]\n",
      "\n",
      "after removing first and last number \n",
      " [26 15 35 37 21 17 37 44 54 23 20 22 43 41 39 32 20 39 16 45 43 25 25 15\n",
      " 44 40 37 16 28 42 41 18 27 34 36 18 49 25]\n"
     ]
    }
   ],
   "source": [
    "arr1= np.random.randint(15,55, size=(1,40))\n",
    "print(\"before removing first and last number \\n\",arr1)\n",
    "print(\"\\nafter removing first and last number \\n\" ,arr1[0,1:-1])"
   ]
  },
  {
   "cell_type": "markdown",
   "id": "b21923c5",
   "metadata": {},
   "source": [
    "### 10. Write a NumPy program to create a vector of length 5 filled with arbitrary integers from 0 to 10"
   ]
  },
  {
   "cell_type": "code",
   "execution_count": 70,
   "id": "12f0f55e",
   "metadata": {},
   "outputs": [
    {
     "data": {
      "text/plain": [
       "array([[5, 6, 5, 8, 9]])"
      ]
     },
     "execution_count": 70,
     "metadata": {},
     "output_type": "execute_result"
    }
   ],
   "source": [
    "arr1= np.random.randint(0,11, size=(1,5))\n",
    "arr1"
   ]
  },
  {
   "cell_type": "markdown",
   "id": "f5bdea7d",
   "metadata": {},
   "source": [
    "#### 11. Write a NumPy program to create a 10x10 matrix, in which the elements on the borders will be equal to 1, and inside 0.\n"
   ]
  },
  {
   "cell_type": "code",
   "execution_count": 78,
   "id": "521a4498",
   "metadata": {},
   "outputs": [
    {
     "name": "stdout",
     "output_type": "stream",
     "text": [
      "[[1 1 1 1 1 1 1 1 1 1]\n",
      " [1 0 0 0 0 0 0 0 0 1]\n",
      " [1 0 0 0 0 0 0 0 0 1]\n",
      " [1 0 0 0 0 0 0 0 0 1]\n",
      " [1 0 0 0 0 0 0 0 0 1]\n",
      " [1 0 0 0 0 0 0 0 0 1]\n",
      " [1 0 0 0 0 0 0 0 0 1]\n",
      " [1 0 0 0 0 0 0 0 0 1]\n",
      " [1 0 0 0 0 0 0 0 0 1]\n",
      " [1 1 1 1 1 1 1 1 1 1]]\n"
     ]
    }
   ],
   "source": [
    "ones = np.ones((10,10), dtype='uint8')\n",
    "zeros = np.zeros((8,8), dtype='uint8')\n",
    "final = ones.copy()\n",
    "final[1:-1,1:-1] = zeros\n",
    "print(final)\n"
   ]
  },
  {
   "cell_type": "markdown",
   "id": "1fceca6b",
   "metadata": {},
   "source": [
    "#### 12. Write a NumPy program to create a 5x5 zero matrix with elements on the main diagonal equal to 1, 2, 3, 4, 5."
   ]
  },
  {
   "cell_type": "code",
   "execution_count": 83,
   "id": "edcaff79",
   "metadata": {},
   "outputs": [
    {
     "data": {
      "text/plain": [
       "array([[1, 0, 0, 0, 0],\n",
       "       [0, 2, 0, 0, 0],\n",
       "       [0, 0, 3, 0, 0],\n",
       "       [0, 0, 0, 4, 0],\n",
       "       [0, 0, 0, 0, 5]], dtype=uint8)"
      ]
     },
     "execution_count": 83,
     "metadata": {},
     "output_type": "execute_result"
    }
   ],
   "source": [
    "zeros = np.zeros((5,5), dtype='uint8')\n",
    "zeros[[0,1,2,3,4],[0,1,2,3,4]] = [1,2,3,4,5]\n",
    "zeros"
   ]
  },
  {
   "cell_type": "markdown",
   "id": "60d9350c",
   "metadata": {},
   "source": [
    "#### 13. Write a NumPy program to create a 4x4 matrix in which 0 and 1 are staggered, with zeros on the main diagonal."
   ]
  },
  {
   "attachments": {
    "image.png": {
     "image/png": "[encoded data removed]"
    }
   },
   "cell_type": "markdown",
   "id": "4debe04a",
   "metadata": {},
   "source": [
    "output sample ---->  ![image.png](attachment:image.png)"
   ]
  },
  {
   "cell_type": "code",
   "execution_count": 100,
   "id": "7656d2e2",
   "metadata": {},
   "outputs": [
    {
     "data": {
      "text/plain": [
       "array([[0, 1, 0, 1],\n",
       "       [1, 0, 1, 0],\n",
       "       [0, 1, 0, 1],\n",
       "       [1, 0, 1, 0]], dtype=uint8)"
      ]
     },
     "execution_count": 100,
     "metadata": {},
     "output_type": "execute_result"
    }
   ],
   "source": [
    "arr1 = np.zeros((4,4), dtype='uint8')\n",
    "arr1[0::2,1::2] = 1\n",
    "arr1[1::2,0::2] = 1\n",
    "arr1"
   ]
  },
  {
   "cell_type": "markdown",
   "id": "73146059",
   "metadata": {},
   "source": [
    "#### 14. Write a NumPy program to save two given arrays into a single file in compressed format (.npz format) and load it.\n"
   ]
  },
  {
   "cell_type": "code",
   "execution_count": 112,
   "id": "f861ff89",
   "metadata": {},
   "outputs": [],
   "source": [
    "# creating directory to save in it\n",
    "mkdir('data')\n",
    "\n",
    "arr1 = np.full((2,2), 3)\n",
    "arr2 = np.full((2,2), 5)\n",
    "np.savez_compressed('data/compressed_file.npz',arr1,arr2)"
   ]
  },
  {
   "cell_type": "markdown",
   "id": "929c0f5b",
   "metadata": {},
   "source": [
    "#### 15. Write a NumPy program to create a one-dimensional array of forty pseudo-randomly generated values. "
   ]
  },
  {
   "cell_type": "code",
   "execution_count": 109,
   "id": "1c9a844b",
   "metadata": {},
   "outputs": [
    {
     "data": {
      "text/plain": [
       "array([0.65881701, 0.72103869, 0.97794012, 0.25140484, 0.30155551,\n",
       "       0.89588281, 0.01668265, 0.51120544, 0.97969295, 0.76560346,\n",
       "       0.35576629, 0.06669827, 0.33812085, 0.87764413, 0.48915206,\n",
       "       0.7767654 , 0.7535266 , 0.76568307, 0.90164412, 0.5720362 ,\n",
       "       0.3669524 , 0.60931368, 0.42884245, 0.42138935, 0.42853074,\n",
       "       0.75227015, 0.55164582, 0.20468424, 0.00532765, 0.81724113,\n",
       "       0.65509036, 0.79138294, 0.86744945, 0.87652105, 0.12851159,\n",
       "       0.50854438, 0.78776363, 0.27478688, 0.7390075 , 0.14771724])"
      ]
     },
     "execution_count": 109,
     "metadata": {},
     "output_type": "execute_result"
    }
   ],
   "source": [
    "arr1= np.random.rand(40)\n",
    "arr1"
   ]
  },
  {
   "cell_type": "markdown",
   "id": "763807ed",
   "metadata": {},
   "source": [
    "#### 16. Write a NumPy program to extract all numbers from a given array which are less and greater than a specified number."
   ]
  },
  {
   "cell_type": "code",
   "execution_count": 107,
   "id": "7fe3def6",
   "metadata": {},
   "outputs": [
    {
     "name": "stdout",
     "output_type": "stream",
     "text": [
      "[2]\n"
     ]
    }
   ],
   "source": [
    "arr1 = np.array([1,2,3])\n",
    "print(arr1[(arr1 >1 ) & (arr1 <3 )])\n"
   ]
  },
  {
   "cell_type": "code",
   "execution_count": null,
   "id": "201aa8a7",
   "metadata": {},
   "outputs": [],
   "source": []
  }
 ],
 "metadata": {
  "kernelspec": {
   "display_name": "Python 3 (ipykernel)",
   "language": "python",
   "name": "python3"
  },
  "language_info": {
   "codemirror_mode": {
    "name": "ipython",
    "version": 3
   },
   "file_extension": ".py",
   "mimetype": "text/x-python",
   "name": "python",
   "nbconvert_exporter": "python",
   "pygments_lexer": "ipython3",
   "version": "3.10.9"
  }
 },
 "nbformat": 4,
 "nbformat_minor": 5
}
